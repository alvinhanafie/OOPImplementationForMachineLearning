{
 "cells": [
  {
   "cell_type": "markdown",
   "id": "70df85f7",
   "metadata": {
    "papermill": {
     "duration": 0.00641,
     "end_time": "2024-06-06T14:24:07.265519",
     "exception": false,
     "start_time": "2024-06-06T14:24:07.259109",
     "status": "completed"
    },
    "tags": []
   },
   "source": [
    "# OOP Implementation for Classification and Regression Metrics Evaluation"
   ]
  },
  {
   "cell_type": "markdown",
   "id": "08610e20",
   "metadata": {
    "papermill": {
     "duration": 0.0057,
     "end_time": "2024-06-06T14:24:07.278262",
     "exception": false,
     "start_time": "2024-06-06T14:24:07.272562",
     "status": "completed"
    },
    "tags": []
   },
   "source": [
    "This notebook provides exercise of using OOP implementation for Classification and Regression metrics. \n",
    "\n",
    "We will try to calculate evaluation metrics manually by coding, then compare it to the evaluation metrics results from scikit library.\n",
    "\n",
    "In this notebook, we will implement encapsulation, inheritance, and polymorphism."
   ]
  },
  {
   "cell_type": "code",
   "execution_count": 1,
   "id": "b3face27",
   "metadata": {
    "execution": {
     "iopub.execute_input": "2024-06-06T14:24:07.292522Z",
     "iopub.status.busy": "2024-06-06T14:24:07.292090Z",
     "iopub.status.idle": "2024-06-06T14:24:08.726894Z",
     "shell.execute_reply": "2024-06-06T14:24:08.725666Z"
    },
    "papermill": {
     "duration": 1.445172,
     "end_time": "2024-06-06T14:24:08.729924",
     "exception": false,
     "start_time": "2024-06-06T14:24:07.284752",
     "status": "completed"
    },
    "tags": []
   },
   "outputs": [],
   "source": [
    "# import library from scikit-learn for crosscheck in the final step\n",
    "\n",
    "from sklearn.metrics import recall_score, precision_score, f1_score, accuracy_score\n",
    "from sklearn.metrics import mean_squared_error, mean_absolute_error, r2_score\n"
   ]
  },
  {
   "cell_type": "code",
   "execution_count": 2,
   "id": "d52919e8",
   "metadata": {
    "execution": {
     "iopub.execute_input": "2024-06-06T14:24:08.744717Z",
     "iopub.status.busy": "2024-06-06T14:24:08.743607Z",
     "iopub.status.idle": "2024-06-06T14:24:08.752495Z",
     "shell.execute_reply": "2024-06-06T14:24:08.751379Z"
    },
    "papermill": {
     "duration": 0.018726,
     "end_time": "2024-06-06T14:24:08.754825",
     "exception": false,
     "start_time": "2024-06-06T14:24:08.736099",
     "status": "completed"
    },
    "tags": []
   },
   "outputs": [],
   "source": [
    "# super / parent class for both classification and regression metrics evaluation \n",
    "\n",
    "class BaseEvaluation():\n",
    "    def __init__(self):        \n",
    "        self._actual_values = []\n",
    "        self._predicted_values = []\n",
    "\n",
    "    # get_values to get the current actual and predicted values for metrics evaluation\n",
    "    def get_values(self):\n",
    "        print('Actual Values:', self._actual_values)\n",
    "        print('Predicted Values:', self._predicted_values)\n",
    "        \n",
    "    # set_values to add actual and predicted values for metrics evaluation\n",
    "    def set_values(self, actual_values, predicted_values): \n",
    "        if not isinstance(actual_values, list) or not isinstance(predicted_values, list):\n",
    "            raise ValueError(\"Please input data with the type of list.\")\n",
    "\n",
    "        if len(actual_values) != len(predicted_values):\n",
    "            raise ValueError('Dataset for actual and predicted values are not in the same length')\n",
    "        \n",
    "        self._actual_values.extend(actual_values)\n",
    "        self._predicted_values.extend(predicted_values)\n",
    "\n",
    "    # _check_values to check whether any data already inputted for metrics evaluation\n",
    "    def _check_values(self):\n",
    "        if not self._actual_values or not self._predicted_values:\n",
    "            raise ValueError(\"No data for metrics evaluation. Please add some values by using the set_values function.\")\n",
    "        \n",
    "    # reset to restart the process of metrics evaluation\n",
    "    def reset(self):\n",
    "        self._actual_values = []\n",
    "        self._predicted_values = []"
   ]
  },
  {
   "cell_type": "code",
   "execution_count": 3,
   "id": "aa2456a7",
   "metadata": {
    "execution": {
     "iopub.execute_input": "2024-06-06T14:24:08.769059Z",
     "iopub.status.busy": "2024-06-06T14:24:08.768660Z",
     "iopub.status.idle": "2024-06-06T14:24:08.780629Z",
     "shell.execute_reply": "2024-06-06T14:24:08.779540Z"
    },
    "papermill": {
     "duration": 0.021927,
     "end_time": "2024-06-06T14:24:08.783166",
     "exception": false,
     "start_time": "2024-06-06T14:24:08.761239",
     "status": "completed"
    },
    "tags": []
   },
   "outputs": [],
   "source": [
    "# sub / child class for classification metrics evaluation\n",
    "\n",
    "class ClassificationEvaluation(BaseEvaluation):\n",
    "    def accuracy(self):\n",
    "        self._check_values()\n",
    "        \n",
    "        # true prediction to calculate the total of true positive and true negative)\n",
    "        true_prediction = [1 for y_true, y_pred in zip(self._actual_values, self._predicted_values) if y_true == y_pred]\n",
    "        total_dataset = len(self._actual_values)\n",
    "\n",
    "        return sum(true_prediction)/total_dataset\n",
    "    \n",
    "    def precision(self):\n",
    "        self._check_values()\n",
    "\n",
    "        # true positive to calculate the total of true positive)\n",
    "        true_positive = [1 for y_true, y_pred in zip(self._actual_values, self._predicted_values) if (y_true + y_pred == 2)]\n",
    "        # predicted positive to calculate the total of false positive)\n",
    "        predicted_positive = [1 for y_true, y_pred in zip(self._actual_values, self._predicted_values) if ((y_true == 0) and (y_pred == 1))]\n",
    "\n",
    "        return sum(true_positive)/(sum(true_positive) + sum(predicted_positive))\n",
    "\n",
    "    def recall(self):\n",
    "        self._check_values()\n",
    "       \n",
    "        true_positive = [1 for y_true, y_pred in zip(self._actual_values, self._predicted_values) if (y_true + y_pred == 2)]\n",
    "        # predicted negative to calculate the total of false negative)\n",
    "        predicted_negative = [1 for y_true, y_pred in zip(self._actual_values, self._predicted_values) if ((y_true == 1) and (y_pred == 0))]\n",
    "\n",
    "        return sum(true_positive)/(sum(true_positive) + sum(predicted_negative))\n",
    "    \n",
    "    def f1(self):\n",
    "        self._check_values()\n",
    "\n",
    "        precision = self.precision()\n",
    "        recall = self.recall()\n",
    "\n",
    "        return (2*precision*recall/(precision+recall))\n",
    "    \n",
    "    # evaluate function to evaluate all evaluation metrics\n",
    "    def evaluate(self):\n",
    "        return {\n",
    "            \"Accuracy\": self.accuracy(),\n",
    "            \"Precision\": self.precision(),\n",
    "            \"Recall\": self.recall(),\n",
    "            \"F1 Score\": self.f1()\n",
    "            }\n"
   ]
  },
  {
   "cell_type": "code",
   "execution_count": 4,
   "id": "4a20c64b",
   "metadata": {
    "execution": {
     "iopub.execute_input": "2024-06-06T14:24:08.798564Z",
     "iopub.status.busy": "2024-06-06T14:24:08.798150Z",
     "iopub.status.idle": "2024-06-06T14:24:08.804882Z",
     "shell.execute_reply": "2024-06-06T14:24:08.803638Z"
    },
    "papermill": {
     "duration": 0.017999,
     "end_time": "2024-06-06T14:24:08.807209",
     "exception": false,
     "start_time": "2024-06-06T14:24:08.789210",
     "status": "completed"
    },
    "tags": []
   },
   "outputs": [],
   "source": [
    "# data dummy for classification metrics evaluation\n",
    "\n",
    "classification_actual_label = [1, 0, 1, 1, 0, 1, 0, 1, 1, 0, 1, 0, 0, 1, 1, 0, 0, 1, 0, 1, 1, 0, 0, 1, 1, 0, 0, 1, 0, 1]\n",
    "classification_predicted_labels = [1, 0, 1, 1, 0, 0, 1, 1, 0, 0, 1, 0, 1, 1, 0, 0, 0, 1, 0, 1, 1, 0, 0, 1, 1, 0, 0, 1, 1, 1]"
   ]
  },
  {
   "cell_type": "code",
   "execution_count": 5,
   "id": "d0f4c0f9",
   "metadata": {
    "execution": {
     "iopub.execute_input": "2024-06-06T14:24:08.821045Z",
     "iopub.status.busy": "2024-06-06T14:24:08.820648Z",
     "iopub.status.idle": "2024-06-06T14:24:08.825729Z",
     "shell.execute_reply": "2024-06-06T14:24:08.824438Z"
    },
    "papermill": {
     "duration": 0.014871,
     "end_time": "2024-06-06T14:24:08.828240",
     "exception": false,
     "start_time": "2024-06-06T14:24:08.813369",
     "status": "completed"
    },
    "tags": []
   },
   "outputs": [],
   "source": [
    "# create object from class ClassificationEvaluation()\n",
    "\n",
    "classification_evaluation = ClassificationEvaluation()"
   ]
  },
  {
   "cell_type": "code",
   "execution_count": 6,
   "id": "a0ef2f23",
   "metadata": {
    "execution": {
     "iopub.execute_input": "2024-06-06T14:24:08.842443Z",
     "iopub.status.busy": "2024-06-06T14:24:08.841227Z",
     "iopub.status.idle": "2024-06-06T14:24:08.846590Z",
     "shell.execute_reply": "2024-06-06T14:24:08.845397Z"
    },
    "papermill": {
     "duration": 0.01483,
     "end_time": "2024-06-06T14:24:08.848978",
     "exception": false,
     "start_time": "2024-06-06T14:24:08.834148",
     "status": "completed"
    },
    "tags": []
   },
   "outputs": [],
   "source": [
    "# data input for metrics evaluation\n",
    "\n",
    "classification_evaluation.set_values(classification_actual_label, classification_predicted_labels)"
   ]
  },
  {
   "cell_type": "code",
   "execution_count": 7,
   "id": "b40182ed",
   "metadata": {
    "execution": {
     "iopub.execute_input": "2024-06-06T14:24:08.863355Z",
     "iopub.status.busy": "2024-06-06T14:24:08.862262Z",
     "iopub.status.idle": "2024-06-06T14:24:08.870871Z",
     "shell.execute_reply": "2024-06-06T14:24:08.869706Z"
    },
    "papermill": {
     "duration": 0.018226,
     "end_time": "2024-06-06T14:24:08.873278",
     "exception": false,
     "start_time": "2024-06-06T14:24:08.855052",
     "status": "completed"
    },
    "tags": []
   },
   "outputs": [
    {
     "data": {
      "text/plain": [
       "{'Accuracy': 0.8, 'Precision': 0.8125, 'Recall': 0.8125, 'F1 Score': 0.8125}"
      ]
     },
     "execution_count": 7,
     "metadata": {},
     "output_type": "execute_result"
    }
   ],
   "source": [
    "# classification metrics evaluation\n",
    "\n",
    "classification_evaluation.evaluate()"
   ]
  },
  {
   "cell_type": "code",
   "execution_count": 8,
   "id": "acf4f113",
   "metadata": {
    "execution": {
     "iopub.execute_input": "2024-06-06T14:24:08.888021Z",
     "iopub.status.busy": "2024-06-06T14:24:08.887506Z",
     "iopub.status.idle": "2024-06-06T14:24:08.904244Z",
     "shell.execute_reply": "2024-06-06T14:24:08.902638Z"
    },
    "id": "4f25e25e",
    "papermill": {
     "duration": 0.027595,
     "end_time": "2024-06-06T14:24:08.907295",
     "exception": false,
     "start_time": "2024-06-06T14:24:08.879700",
     "status": "completed"
    },
    "tags": []
   },
   "outputs": [
    {
     "name": "stdout",
     "output_type": "stream",
     "text": [
      "Accuracy: 0.8, Precision: 0.8125, Recall: 0.8125, F1 Score: 0.8125\n"
     ]
    }
   ],
   "source": [
    "# cross check with scikit-learn methods for metrics evaluation\n",
    "\n",
    "accuracy_scikit = accuracy_score(classification_actual_label, classification_predicted_labels)\n",
    "precision_scikit = precision_score(classification_actual_label, classification_predicted_labels)\n",
    "recall_scikit = recall_score(classification_actual_label, classification_predicted_labels)\n",
    "f1_scikit = f1_score(classification_actual_label, classification_predicted_labels)\n",
    "\n",
    "print(f'Accuracy: {accuracy_scikit}, Precision: {precision_scikit}, Recall: {recall_scikit}, F1 Score: {f1_scikit}')"
   ]
  },
  {
   "cell_type": "markdown",
   "id": "c2458d4c",
   "metadata": {
    "papermill": {
     "duration": 0.006042,
     "end_time": "2024-06-06T14:24:08.920012",
     "exception": false,
     "start_time": "2024-06-06T14:24:08.913970",
     "status": "completed"
    },
    "tags": []
   },
   "source": [
    "Summary: Evaluation metrics for classification from ClassificationEvaluation() class and scikit-learn method show the same values. "
   ]
  },
  {
   "cell_type": "code",
   "execution_count": 9,
   "id": "26205d6c",
   "metadata": {
    "execution": {
     "iopub.execute_input": "2024-06-06T14:24:08.934244Z",
     "iopub.status.busy": "2024-06-06T14:24:08.933842Z",
     "iopub.status.idle": "2024-06-06T14:24:08.943886Z",
     "shell.execute_reply": "2024-06-06T14:24:08.942599Z"
    },
    "id": "7ed74993",
    "papermill": {
     "duration": 0.020267,
     "end_time": "2024-06-06T14:24:08.946447",
     "exception": false,
     "start_time": "2024-06-06T14:24:08.926180",
     "status": "completed"
    },
    "tags": []
   },
   "outputs": [],
   "source": [
    "# sub / child class for regression metrics evaluation\n",
    "\n",
    "\n",
    "class RegressionEvaluator(BaseEvaluation):\n",
    "\n",
    "    def mean_absolute_error(self):\n",
    "        self._check_values()\n",
    "\n",
    "        # calculate absolute errors\n",
    "        errors = [abs(y_true - y_pred) for y_true, y_pred in zip(self._actual_values, self._predicted_values)]\n",
    "        return sum(errors) / len(errors)\n",
    "    \n",
    "    def mean_squared_error(self):\n",
    "        self._check_values()\n",
    "\n",
    "        # calculate squared errors\n",
    "        errors = [(y_true - y_pred)**2 for y_true, y_pred in zip(self._actual_values, self._predicted_values)]\n",
    "        return sum(errors) / len(errors)\n",
    "    \n",
    "    def r2_score(self):\n",
    "        self._check_values()\n",
    "\n",
    "        # calculate explained variation and total variation\n",
    "        explained_variation = [(y_true - y_pred)**2 for y_true, y_pred in zip(self._actual_values, self._predicted_values)]\n",
    "        average_y_true = sum(self._actual_values)/len(self._actual_values)\n",
    "        total_variation = [(y_true - average_y_true)**2 for y_true in self._actual_values]\n",
    "        return 1 - sum(explained_variation) / sum(total_variation)\n",
    "\n",
    "    # evaluate function to evaluate all evaluation metrics\n",
    "    def evaluate(self):\n",
    "        return {\n",
    "            'MAE': self.mean_absolute_error(),\n",
    "            'MSE': self.mean_squared_error(),\n",
    "            'R2': self.r2_score(),\n",
    "        }\n",
    "\n"
   ]
  },
  {
   "cell_type": "code",
   "execution_count": 10,
   "id": "6c8a0b88",
   "metadata": {
    "execution": {
     "iopub.execute_input": "2024-06-06T14:24:08.960698Z",
     "iopub.status.busy": "2024-06-06T14:24:08.960272Z",
     "iopub.status.idle": "2024-06-06T14:24:08.967200Z",
     "shell.execute_reply": "2024-06-06T14:24:08.965610Z"
    },
    "papermill": {
     "duration": 0.017258,
     "end_time": "2024-06-06T14:24:08.970022",
     "exception": false,
     "start_time": "2024-06-06T14:24:08.952764",
     "status": "completed"
    },
    "tags": []
   },
   "outputs": [],
   "source": [
    "# data dummy for regression metrics evaluation\n",
    "\n",
    "\n",
    "regression_actual_values = [10, 15, 20, 25, 30, 35, 40, 45, 50, 55, 60, 65, 70, 75, 80, 85, 90, 95, 100, 105, 110, 115, 120, 125, 130, 135, 140, 145, 150, 155]\n",
    "regression_predicted_values = [12, 18, 22, 28, 29, 38, 42, 48, 51, 58, 62, 68, 73, 78, 82, 88, 92, 96, 102, 110, 112, 118, 122, 128, 133, 138, 142, 148, 152, 158]"
   ]
  },
  {
   "cell_type": "code",
   "execution_count": 11,
   "id": "79c00f88",
   "metadata": {
    "execution": {
     "iopub.execute_input": "2024-06-06T14:24:08.984474Z",
     "iopub.status.busy": "2024-06-06T14:24:08.984043Z",
     "iopub.status.idle": "2024-06-06T14:24:08.988893Z",
     "shell.execute_reply": "2024-06-06T14:24:08.987718Z"
    },
    "id": "0c310cb3",
    "papermill": {
     "duration": 0.014526,
     "end_time": "2024-06-06T14:24:08.991027",
     "exception": false,
     "start_time": "2024-06-06T14:24:08.976501",
     "status": "completed"
    },
    "tags": []
   },
   "outputs": [],
   "source": [
    "# create object from class RegressionEvaluation()\n",
    "\n",
    "regression_evaluation = RegressionEvaluator()\n"
   ]
  },
  {
   "cell_type": "code",
   "execution_count": 12,
   "id": "8a20c7ca",
   "metadata": {
    "execution": {
     "iopub.execute_input": "2024-06-06T14:24:09.005271Z",
     "iopub.status.busy": "2024-06-06T14:24:09.004851Z",
     "iopub.status.idle": "2024-06-06T14:24:09.010396Z",
     "shell.execute_reply": "2024-06-06T14:24:09.009279Z"
    },
    "papermill": {
     "duration": 0.015448,
     "end_time": "2024-06-06T14:24:09.012773",
     "exception": false,
     "start_time": "2024-06-06T14:24:08.997325",
     "status": "completed"
    },
    "tags": []
   },
   "outputs": [],
   "source": [
    "# data input for metrics evaluation\n",
    "\n",
    "regression_evaluation.set_values(regression_actual_values, regression_predicted_values)"
   ]
  },
  {
   "cell_type": "code",
   "execution_count": 13,
   "id": "3e49fd83",
   "metadata": {
    "execution": {
     "iopub.execute_input": "2024-06-06T14:24:09.026558Z",
     "iopub.status.busy": "2024-06-06T14:24:09.026141Z",
     "iopub.status.idle": "2024-06-06T14:24:09.033343Z",
     "shell.execute_reply": "2024-06-06T14:24:09.032279Z"
    },
    "papermill": {
     "duration": 0.016686,
     "end_time": "2024-06-06T14:24:09.035591",
     "exception": false,
     "start_time": "2024-06-06T14:24:09.018905",
     "status": "completed"
    },
    "tags": []
   },
   "outputs": [
    {
     "data": {
      "text/plain": [
       "{'MAE': 2.5, 'MSE': 6.9, 'R2': 0.9963159065628476}"
      ]
     },
     "execution_count": 13,
     "metadata": {},
     "output_type": "execute_result"
    }
   ],
   "source": [
    "# regression metrics evaluation\n",
    "\n",
    "regression_evaluation.evaluate()"
   ]
  },
  {
   "cell_type": "code",
   "execution_count": 14,
   "id": "2373d431",
   "metadata": {
    "execution": {
     "iopub.execute_input": "2024-06-06T14:24:09.050257Z",
     "iopub.status.busy": "2024-06-06T14:24:09.049849Z",
     "iopub.status.idle": "2024-06-06T14:24:09.057952Z",
     "shell.execute_reply": "2024-06-06T14:24:09.056787Z"
    },
    "id": "c6469e2b",
    "papermill": {
     "duration": 0.018473,
     "end_time": "2024-06-06T14:24:09.060677",
     "exception": false,
     "start_time": "2024-06-06T14:24:09.042204",
     "status": "completed"
    },
    "tags": []
   },
   "outputs": [
    {
     "name": "stdout",
     "output_type": "stream",
     "text": [
      "MAE: 2.5, MSE: 6.9, R2: 0.9963159065628476\n"
     ]
    }
   ],
   "source": [
    "# cross check with scikit-learn methods for metrics evaluation\n",
    "\n",
    "mae_scikit = mean_absolute_error(regression_actual_values, regression_predicted_values)\n",
    "mse_scikit = mean_squared_error(regression_actual_values, regression_predicted_values)\n",
    "r2_scikit = r2_score(regression_actual_values, regression_predicted_values)\n",
    "\n",
    "print('MAE: {}, MSE: {}, R2: {}'.format(mae_scikit, mse_scikit, r2_scikit))\n"
   ]
  },
  {
   "cell_type": "markdown",
   "id": "16bcf44e",
   "metadata": {
    "papermill": {
     "duration": 0.006038,
     "end_time": "2024-06-06T14:24:09.074183",
     "exception": false,
     "start_time": "2024-06-06T14:24:09.068145",
     "status": "completed"
    },
    "tags": []
   },
   "source": [
    "Summary: Evaluation metrics for regression from RegressionEvaluation() class and scikit-learn method show the same values. "
   ]
  },
  {
   "cell_type": "markdown",
   "id": "561bd5fc",
   "metadata": {
    "papermill": {
     "duration": 0.00613,
     "end_time": "2024-06-06T14:24:09.086749",
     "exception": false,
     "start_time": "2024-06-06T14:24:09.080619",
     "status": "completed"
    },
    "tags": []
   },
   "source": [
    "## Additional (Checking other functions)"
   ]
  },
  {
   "cell_type": "code",
   "execution_count": 15,
   "id": "80704acf",
   "metadata": {
    "execution": {
     "iopub.execute_input": "2024-06-06T14:24:09.101646Z",
     "iopub.status.busy": "2024-06-06T14:24:09.101229Z",
     "iopub.status.idle": "2024-06-06T14:24:09.107283Z",
     "shell.execute_reply": "2024-06-06T14:24:09.105922Z"
    },
    "papermill": {
     "duration": 0.016561,
     "end_time": "2024-06-06T14:24:09.109698",
     "exception": false,
     "start_time": "2024-06-06T14:24:09.093137",
     "status": "completed"
    },
    "tags": []
   },
   "outputs": [
    {
     "name": "stdout",
     "output_type": "stream",
     "text": [
      "Actual Values: [10, 15, 20, 25, 30, 35, 40, 45, 50, 55, 60, 65, 70, 75, 80, 85, 90, 95, 100, 105, 110, 115, 120, 125, 130, 135, 140, 145, 150, 155]\n",
      "Predicted Values: [12, 18, 22, 28, 29, 38, 42, 48, 51, 58, 62, 68, 73, 78, 82, 88, 92, 96, 102, 110, 112, 118, 122, 128, 133, 138, 142, 148, 152, 158]\n"
     ]
    }
   ],
   "source": [
    "# check current values inside regression_evaluation\n",
    "\n",
    "regression_evaluation.get_values()"
   ]
  },
  {
   "cell_type": "code",
   "execution_count": 16,
   "id": "f11a2a67",
   "metadata": {
    "execution": {
     "iopub.execute_input": "2024-06-06T14:24:09.124436Z",
     "iopub.status.busy": "2024-06-06T14:24:09.123955Z",
     "iopub.status.idle": "2024-06-06T14:24:09.129236Z",
     "shell.execute_reply": "2024-06-06T14:24:09.128084Z"
    },
    "papermill": {
     "duration": 0.015677,
     "end_time": "2024-06-06T14:24:09.131924",
     "exception": false,
     "start_time": "2024-06-06T14:24:09.116247",
     "status": "completed"
    },
    "tags": []
   },
   "outputs": [],
   "source": [
    "# add more values to regression_evaluation\n",
    "\n",
    "regression_evaluation.set_values([103], [107])"
   ]
  },
  {
   "cell_type": "code",
   "execution_count": 17,
   "id": "692ab037",
   "metadata": {
    "execution": {
     "iopub.execute_input": "2024-06-06T14:24:09.146546Z",
     "iopub.status.busy": "2024-06-06T14:24:09.146117Z",
     "iopub.status.idle": "2024-06-06T14:24:09.151979Z",
     "shell.execute_reply": "2024-06-06T14:24:09.150877Z"
    },
    "papermill": {
     "duration": 0.015881,
     "end_time": "2024-06-06T14:24:09.154291",
     "exception": false,
     "start_time": "2024-06-06T14:24:09.138410",
     "status": "completed"
    },
    "tags": []
   },
   "outputs": [
    {
     "name": "stdout",
     "output_type": "stream",
     "text": [
      "Actual Values: [10, 15, 20, 25, 30, 35, 40, 45, 50, 55, 60, 65, 70, 75, 80, 85, 90, 95, 100, 105, 110, 115, 120, 125, 130, 135, 140, 145, 150, 155, 103]\n",
      "Predicted Values: [12, 18, 22, 28, 29, 38, 42, 48, 51, 58, 62, 68, 73, 78, 82, 88, 92, 96, 102, 110, 112, 118, 122, 128, 133, 138, 142, 148, 152, 158, 107]\n"
     ]
    }
   ],
   "source": [
    "# check current values inside regression_evaluation after data addition\n",
    "\n",
    "regression_evaluation.get_values()"
   ]
  },
  {
   "cell_type": "code",
   "execution_count": 18,
   "id": "f9d5a910",
   "metadata": {
    "execution": {
     "iopub.execute_input": "2024-06-06T14:24:09.169863Z",
     "iopub.status.busy": "2024-06-06T14:24:09.169478Z",
     "iopub.status.idle": "2024-06-06T14:24:09.176281Z",
     "shell.execute_reply": "2024-06-06T14:24:09.174984Z"
    },
    "papermill": {
     "duration": 0.017764,
     "end_time": "2024-06-06T14:24:09.178936",
     "exception": false,
     "start_time": "2024-06-06T14:24:09.161172",
     "status": "completed"
    },
    "tags": []
   },
   "outputs": [
    {
     "data": {
      "text/plain": [
       "{'MAE': 2.5483870967741935, 'MSE': 7.193548387096774, 'R2': 0.996059666442471}"
      ]
     },
     "execution_count": 18,
     "metadata": {},
     "output_type": "execute_result"
    }
   ],
   "source": [
    "# evaluate using additional data\n",
    "\n",
    "regression_evaluation.evaluate()"
   ]
  },
  {
   "cell_type": "code",
   "execution_count": 19,
   "id": "cfe9431a",
   "metadata": {
    "execution": {
     "iopub.execute_input": "2024-06-06T14:24:09.193988Z",
     "iopub.status.busy": "2024-06-06T14:24:09.193611Z",
     "iopub.status.idle": "2024-06-06T14:24:09.201854Z",
     "shell.execute_reply": "2024-06-06T14:24:09.200735Z"
    },
    "papermill": {
     "duration": 0.018626,
     "end_time": "2024-06-06T14:24:09.204293",
     "exception": false,
     "start_time": "2024-06-06T14:24:09.185667",
     "status": "completed"
    },
    "tags": []
   },
   "outputs": [
    {
     "name": "stdout",
     "output_type": "stream",
     "text": [
      "MAE: 2.5483870967741935, MSE: 7.193548387096774, R2: 0.996059666442471\n"
     ]
    }
   ],
   "source": [
    "# cross check with scikit learn method\n",
    "\n",
    "mae_scikit = mean_absolute_error(regression_evaluation._actual_values, regression_evaluation._predicted_values)\n",
    "mse_scikit = mean_squared_error(regression_evaluation._actual_values, regression_evaluation._predicted_values)\n",
    "r2_scikit = r2_score(regression_evaluation._actual_values, regression_evaluation._predicted_values)\n",
    "\n",
    "print(f'MAE: {mae_scikit}, MSE: {mse_scikit}, R2: {r2_scikit}')"
   ]
  },
  {
   "cell_type": "code",
   "execution_count": 20,
   "id": "1f5a7d0f",
   "metadata": {
    "execution": {
     "iopub.execute_input": "2024-06-06T14:24:09.219467Z",
     "iopub.status.busy": "2024-06-06T14:24:09.219053Z",
     "iopub.status.idle": "2024-06-06T14:24:09.225116Z",
     "shell.execute_reply": "2024-06-06T14:24:09.223984Z"
    },
    "papermill": {
     "duration": 0.016376,
     "end_time": "2024-06-06T14:24:09.227553",
     "exception": false,
     "start_time": "2024-06-06T14:24:09.211177",
     "status": "completed"
    },
    "tags": []
   },
   "outputs": [
    {
     "name": "stdout",
     "output_type": "stream",
     "text": [
      "Actual Values: []\n",
      "Predicted Values: []\n"
     ]
    }
   ],
   "source": [
    "# check reset function\n",
    "\n",
    "regression_evaluation.reset()\n",
    "regression_evaluation.get_values()"
   ]
  }
 ],
 "metadata": {
  "kaggle": {
   "accelerator": "none",
   "dataSources": [],
   "dockerImageVersionId": 30618,
   "isGpuEnabled": false,
   "isInternetEnabled": true,
   "language": "python",
   "sourceType": "notebook"
  },
  "kernelspec": {
   "display_name": "Python 3",
   "language": "python",
   "name": "python3"
  },
  "language_info": {
   "codemirror_mode": {
    "name": "ipython",
    "version": 3
   },
   "file_extension": ".py",
   "mimetype": "text/x-python",
   "name": "python",
   "nbconvert_exporter": "python",
   "pygments_lexer": "ipython3",
   "version": "3.10.12"
  },
  "papermill": {
   "default_parameters": {},
   "duration": 6.667641,
   "end_time": "2024-06-06T14:24:09.755659",
   "environment_variables": {},
   "exception": null,
   "input_path": "__notebook__.ipynb",
   "output_path": "__notebook__.ipynb",
   "parameters": {},
   "start_time": "2024-06-06T14:24:03.088018",
   "version": "2.4.0"
  }
 },
 "nbformat": 4,
 "nbformat_minor": 5
}
